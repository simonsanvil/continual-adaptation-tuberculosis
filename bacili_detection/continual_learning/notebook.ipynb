{
 "cells": [
  {
   "cell_type": "code",
   "execution_count": 1,
   "metadata": {},
   "outputs": [],
   "source": [
    "import os, dotenv, sys\n",
    "from pathlib import Path\n",
    "sys.path.append('bacili_detection/src')\n",
    "sys.path.append('bacili_detection/detr')\n",
    "\n",
    "import torch\n",
    "import torchvision\n",
    "import numpy as np\n",
    "import matplotlib.pyplot as plt\n",
    "from PIL import Image\n",
    "\n",
    "from annotations.object_detection.object_detection import ImageForObjectDetection, Rect\n",
    "from annotations.object_detection.dataset import DatasetForObjectDetection\n",
    "from annotations import db\n",
    "from bacili_detection.src.dataset.preprocessing import mask_filter, tile_coords\n",
    "from bacili_detection.detr.util.misc import collate_fn\n",
    "from bacili_detection.detr.datasets.tb_bacillus import TBBacilliDataset, make_ds_transforms\n",
    "from torch.utils.data import DataLoader\n",
    "import torchvision.transforms as T\n",
    "import torch\n",
    "\n",
    "\n",
    "dotenv.load_dotenv('.env')\n",
    "session = db.get_session(os.environ.get(\"DATABASE_URI\"))\n"
   ]
  },
  {
   "cell_type": "code",
   "execution_count": 15,
   "metadata": {},
   "outputs": [
    {
     "name": "stdout",
     "output_type": "stream",
     "text": [
      "Found 202 train artifacts\n"
     ]
    }
   ],
   "source": [
    "train_artifacts = session.query(db.Artifact)\\\n",
    "    .join(db.Project)\\\n",
    "    .join(db.ArtifactTag, isouter=True)\\\n",
    "    .where(db.Project.name == \"Bacilli Detection\")\\\n",
    "    .group_by(db.Artifact.id)\\\n",
    "    .where(db.ArtifactTag.tag == \"train\")\\\n",
    "    .all()\n",
    "\n",
    "print(\"Found {} train artifacts\".format(len(train_artifacts)))\n",
    "\n",
    "# take out half of the artifacts as the holdout set\n",
    "inds = np.arange(len(train_artifacts))\n",
    "holdout_artifacts_inds = np.random.choice(inds, size=len(train_artifacts)//2, replace=False)\n",
    "# tag them as holdout\n",
    "for i in holdout_artifacts_inds:\n",
    "    artifact = train_artifacts[i]\n",
    "    newtag = db.ArtifactTag(tag=\"holdout\", artifact_id=artifact.id)\n",
    "    session.add(newtag)\n",
    "session.commit()\n",
    "# add the tag 'train-cl' to the rest\n",
    "for i in inds:\n",
    "    if i not in holdout_artifacts_inds:\n",
    "        artifact = train_artifacts[i]\n",
    "        newtag = db.ArtifactTag(tag=\"incremental_training\", artifact_id=artifact.id)\n",
    "        session.add(newtag)\n",
    "session.commit()"
   ]
  },
  {
   "cell_type": "code",
   "execution_count": 19,
   "metadata": {},
   "outputs": [
    {
     "name": "stdout",
     "output_type": "stream",
     "text": [
      "Found 101 holdout artifacts\n",
      "Found 121 incremental_training artifacts\n"
     ]
    }
   ],
   "source": [
    "holdout_ds = TBBacilliDataset('holdout', db_session=session)\n",
    "print(\"Found {} holdout artifacts\".format(len(holdout_ds)))\n",
    "train_cl_ds = TBBacilliDataset('incremental_training', db_session=session)\n",
    "print(\"Found {} incremental_training artifacts\".format(len(train_cl_ds)))\n",
    "\n",
    "# for imod in (holdout_ds + train_cl_ds)._images:\n",
    "#     artifact = imod.artifact\n",
    "#     for tag in artifact.tags:\n",
    "#         if tag.tag == \"holdout\":\n",
    "#             # tag.tag = \"N/A\"\n",
    "#             session.delete(tag)\n",
    "#         if tag.tag == \"incremental_training\":\n",
    "#             # tag.tag = \"train\"\n",
    "#             session.delete(tag)\n",
    "    \n",
    "# session.commit()"
   ]
  }
 ],
 "metadata": {
  "kernelspec": {
   "display_name": "tf-env",
   "language": "python",
   "name": "python3"
  },
  "language_info": {
   "codemirror_mode": {
    "name": "ipython",
    "version": 3
   },
   "file_extension": ".py",
   "mimetype": "text/x-python",
   "name": "python",
   "nbconvert_exporter": "python",
   "pygments_lexer": "ipython3",
   "version": "3.8.16"
  },
  "orig_nbformat": 4
 },
 "nbformat": 4,
 "nbformat_minor": 2
}
