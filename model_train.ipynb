{
 "cells": [
  {
   "cell_type": "code",
   "execution_count": 1,
   "metadata": {},
   "outputs": [],
   "source": [
    "import os, sys, glob\n",
    "import pandas as pd\n",
    "import numpy as np\n",
    "import cv2\n",
    "from keras.models import load_model\n",
    "sys.path.append('ml-models/sputum-detection/')\n",
    "from sputum_detection_model import SputumDetectionModel"
   ]
  },
  {
   "cell_type": "code",
   "execution_count": 2,
   "metadata": {},
   "outputs": [
    {
     "name": "stdout",
     "output_type": "stream",
     "text": [
      "Metal device set to: Apple M1 Pro\n",
      "\n",
      "systemMemory: 16.00 GB\n",
      "maxCacheSize: 5.33 GB\n",
      "\n"
     ]
    }
   ],
   "source": [
    "from keras.models import load_model\n",
    "model_final = load_model('ml-models/sputum-detection/models/rcnn_MNasNet_2.h5')\n",
    "model = SputumDetectionModel(model_final, chunk_size=80, stride=40, verbose=True)\n",
    "test_imgs = glob.glob('ml-models/sputum-detection/data/Test/*.jpg')"
   ]
  },
  {
   "cell_type": "code",
   "execution_count": null,
   "metadata": {},
   "outputs": [],
   "source": [
    "# fine-tune the model on the test set\n",
    "tst_arrs = []\n",
    "for img in test_imgs:\n",
    "    im = cv2.imread(img)\n",
    "    coord, im_chunks = model.preprocess_img(im)\n",
    "    tst_arrs.append(im_chunks)"
   ]
  },
  {
   "cell_type": "code",
   "execution_count": 9,
   "metadata": {},
   "outputs": [
    {
     "name": "stderr",
     "output_type": "stream",
     "text": [
      "2023-03-30 10:27:33.444899: W tensorflow/tsl/platform/profile_utils/cpu_utils.cc:128] Failed to get CPU frequency: 0 Hz\n",
      "2023-03-30 10:27:34.423959: I tensorflow/core/grappler/optimizers/custom_graph_optimizer_registry.cc:114] Plugin optimizer for device_type GPU is enabled.\n"
     ]
    },
    {
     "name": "stdout",
     "output_type": "stream",
     "text": [
      "38/38 [==============================] - 9s 133ms/step\n",
      "4 chunks detected\n",
      "chunks has shape (1200, 4)\n",
      "Objects found:  2\n"
     ]
    }
   ],
   "source": [
    "img_path = test_imgs[0]\n",
    "img = cv2.cvtColor(cv2.imread(img_path), cv2.COLOR_BGR2RGB)\n",
    "out, chunks = model.predict(img)\n",
    "print(sum(out[:,0]>0.5), \"chunks detected\")\n",
    "print(\"chunks has shape\", chunks.shape)\n",
    "new_img=model.visualize_prediction(img, out, chunks, asarray=False)"
   ]
  },
  {
   "cell_type": "code",
   "execution_count": 5,
   "metadata": {},
   "outputs": [],
   "source": [
    "from ultralytics import YOLO, yolo\n",
    "\n",
    "# Initialize YOLO v8s\n",
    "yolo = YOLO('yolov8n.pt')\n",
    "\n",
    "# yolo.train("
   ]
  },
  {
   "cell_type": "code",
   "execution_count": 12,
   "metadata": {},
   "outputs": [
    {
     "name": "stdout",
     "output_type": "stream",
     "text": [
      "True\n",
      "Collecting environment information...\n",
      "PyTorch version: 2.0.0\n",
      "Is debug build: False\n",
      "CUDA used to build PyTorch: None\n",
      "ROCM used to build PyTorch: N/A\n",
      "\n",
      "OS: macOS 13.0 (arm64)\n",
      "GCC version: Could not collect\n",
      "Clang version: 14.0.0 (clang-1400.0.29.202)\n",
      "CMake version: version 3.23.4\n",
      "Libc version: N/A\n",
      "\n",
      "Python version: 3.8.16 | packaged by conda-forge | (default, Feb  1 2023, 16:01:13)  [Clang 14.0.6 ] (64-bit runtime)\n",
      "Python platform: macOS-13.0-arm64-arm-64bit\n",
      "Is CUDA available: False\n",
      "CUDA runtime version: No CUDA\n",
      "CUDA_MODULE_LOADING set to: N/A\n",
      "GPU models and configuration: No CUDA\n",
      "Nvidia driver version: No CUDA\n",
      "cuDNN version: No CUDA\n",
      "HIP runtime version: N/A\n",
      "MIOpen runtime version: N/A\n",
      "Is XNNPACK available: True\n",
      "\n",
      "CPU:\n",
      "Apple M1 Pro\n",
      "\n",
      "Versions of relevant libraries:\n",
      "[pip3] mypy-extensions==1.0.0\n",
      "[pip3] numpy==1.24.2\n",
      "[pip3] torch==2.0.0\n",
      "[pip3] torchvision==0.15.1\n",
      "[conda] numpy                     1.24.2                   pypi_0    pypi\n",
      "[conda] torch                     2.0.0                    pypi_0    pypi\n",
      "[conda] torchvision               0.15.1                   pypi_0    pypi\n"
     ]
    }
   ],
   "source": [
    "import torch\n",
    "from torch.utils.collect_env import main\n",
    "print(torch.backends.mps.is_available())\n",
    "main()"
   ]
  },
  {
   "cell_type": "code",
   "execution_count": 8,
   "metadata": {},
   "outputs": [],
   "source": [
    "from ultralytics.yolo.v8.detect import DetectionTrainer\n",
    "\n",
    "DetectionTrainer"
   ]
  }
 ],
 "metadata": {
  "kernelspec": {
   "display_name": "base",
   "language": "python",
   "name": "python3"
  },
  "language_info": {
   "codemirror_mode": {
    "name": "ipython",
    "version": 3
   },
   "file_extension": ".py",
   "mimetype": "text/x-python",
   "name": "python",
   "nbconvert_exporter": "python",
   "pygments_lexer": "ipython3",
   "version": "3.10.9"
  },
  "orig_nbformat": 4,
  "vscode": {
   "interpreter": {
    "hash": "c6e4e9f98eb68ad3b7c296f83d20e6de614cb42e90992a65aa266555a3137d0d"
   }
  }
 },
 "nbformat": 4,
 "nbformat_minor": 2
}
